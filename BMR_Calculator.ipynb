{
  "nbformat": 4,
  "nbformat_minor": 0,
  "metadata": {
    "colab": {
      "provenance": [],
      "authorship_tag": "ABX9TyMj6ujj1uURaxzOWI88AS2D",
      "include_colab_link": true
    },
    "kernelspec": {
      "name": "python3",
      "display_name": "Python 3"
    },
    "language_info": {
      "name": "python"
    }
  },
  "cells": [
    {
      "cell_type": "markdown",
      "metadata": {
        "id": "view-in-github",
        "colab_type": "text"
      },
      "source": [
        "<a href=\"https://colab.research.google.com/github/bradly0cjw/S4MBF/blob/main/BMR_Calculator.ipynb\" target=\"_parent\"><img src=\"https://colab.research.google.com/assets/colab-badge.svg\" alt=\"Open In Colab\"/></a>"
      ]
    },
    {
      "cell_type": "code",
      "execution_count": null,
      "metadata": {
        "id": "AqCgNYvnbnPl",
        "cellView": "form"
      },
      "outputs": [],
      "source": [
        "#@title 請輸入性別、身高(cm)、體重(kg)、年齡\n",
        "性別 = '\\u7537' #@param [\"男\", \"女\"]\n",
        "體重 = 70 #@param {type:\"integer\"}\n",
        "身高 = 180 #@param {type:\"integer\"}\n",
        "年齡 = 20 #@param {type:\"integer\"}\n",
        "#@markdown 輸入完成後，請按下左上角Play圖示，或鍵盤上Ctrl+Enter組合鍵，進行計算。\n",
        "\n",
        "def calculation(gender,weight,height,age):\n",
        "  BMR=(10*weight)+(6.25*height)-(5*age)\n",
        "  # Add Gender Constant\n",
        "  if gender==1:\n",
        "    BMR=BMR+5\n",
        "  else:\n",
        "    BMR=BMR-161\n",
        "  # Print Result\n",
        "  print(\"基礎代謝率為: %.2f kcal\"%BMR)\n",
        "  \n",
        "def datachecker(gender,weight,height,age):\n",
        "  # Change Gender into interger\n",
        "  if gender==\"男\":\n",
        "    gender=1\n",
        "  elif gender ==\"女\":\n",
        "    gender=2\n",
        "  # Gender Error Terminator\n",
        "  else:\n",
        "    print(\"請檢察輸入資訊\")\n",
        "    return\n",
        "  # Weight Error Terminator\n",
        "  if weight<=0 or weight>200:\n",
        "    print(\"請檢察輸入資訊\")\n",
        "    return\n",
        "  # Height Error Terminator\n",
        "  if height<=0 or height>250:\n",
        "    print(\"請檢察輸入資訊\")\n",
        "    return\n",
        "  # Age Error Terminator  \n",
        "  if age<0 or age>170:\n",
        "    print(\"請檢察輸入資訊\")\n",
        "    return\n",
        "  # Calculate BMR\n",
        "  calculation(int(gender),int(weight),int(height),int(age))\n",
        "\n",
        "# Set variables\n",
        "gender=性別\n",
        "weight=體重\n",
        "height=身高\n",
        "age=年齡\n",
        "BMR=0 # Variable Initialization\n",
        "\n",
        "# Data Vaildation\n",
        "datachecker(gender,int(weight),int(height),int(age))\n",
        "\n"
      ]
    }
  ]
}