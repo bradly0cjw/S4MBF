{
  "cells": [
    {
      "cell_type": "markdown",
      "metadata": {
        "colab_type": "text",
        "id": "view-in-github"
      },
      "source": [
        "<a href=\"https://colab.research.google.com/github/bradly0cjw/S4MBF/blob/main/untitled2.ipynb\" target=\"_parent\"><img src=\"https://colab.research.google.com/assets/colab-badge.svg\" alt=\"Open In Colab\"/></a>"
      ]
    },
    {
      "cell_type": "code",
      "execution_count": 11,
      "metadata": {
        "id": "AqCgNYvnbnPl"
      },
      "outputs": [
        {
          "name": "stdout",
          "output_type": "stream",
          "text": [
            "基礎代謝率為: 1730.00 Kcal\n"
          ]
        }
      ],
      "source": [
        "def calculation(gender,weight,height,age):\n",
        "    BMR=(10*weight)+(6.25*height)-(5*age)\n",
        "    if gender==1:\n",
        "        BMR=BMR+5\n",
        "    elif gender==2:\n",
        "        BMR=BMR-161\n",
        "    else :\n",
        "        print(\"invalid data\")\n",
        "        return\n",
        "    print(\"基礎代謝率為: %.2f Kcal\"%BMR)\n",
        "    \n",
        "# gender=int(input(\"請輸入性別\"))\n",
        "# weight=int(input(\"請輸入體重\"))\n",
        "# height=int(input(\"請輸入身高\"))\n",
        "# age=int(input(\"請輸入年齡\"))\n",
        "gender=\"男\"\n",
        "weight=70\n",
        "height=180\n",
        "age=20\n",
        "BMR=0\n",
        "if gender==\"男\":\n",
        "    gender=1\n",
        "elif gender ==\"女\":\n",
        "    gender=2\n",
        "else:\n",
        "    gender=0\n",
        "calculation(int(gender),int(weight),int(height),int(age))\n",
        "\n"
      ]
    }
  ],
  "metadata": {
    "colab": {
      "authorship_tag": "ABX9TyPhkbBDO37W2gsfrdBwkoBK",
      "include_colab_link": true,
      "provenance": []
    },
    "kernelspec": {
      "display_name": "Python 3",
      "language": "python",
      "name": "python3"
    },
    "language_info": {
      "codemirror_mode": {
        "name": "ipython",
        "version": 3
      },
      "file_extension": ".py",
      "mimetype": "text/x-python",
      "name": "python",
      "nbconvert_exporter": "python",
      "pygments_lexer": "ipython3",
      "version": "3.10.9"
    },
    "vscode": {
      "interpreter": {
        "hash": "cbd8f35feaaed57f261a9a0c09917c98c472225f689b9370c9e49cf46f833f95"
      }
    }
  },
  "nbformat": 4,
  "nbformat_minor": 0
}
