{
  "nbformat": 4,
  "nbformat_minor": 0,
  "metadata": {
    "colab": {
      "provenance": [],
      "authorship_tag": "ABX9TyO/SK1y4A3wfqMezJ/K7tjU",
      "include_colab_link": true
    },
    "kernelspec": {
      "name": "python3",
      "display_name": "Python 3"
    },
    "language_info": {
      "name": "python"
    }
  },
  "cells": [
    {
      "cell_type": "markdown",
      "metadata": {
        "id": "view-in-github",
        "colab_type": "text"
      },
      "source": [
        "<a href=\"https://colab.research.google.com/github/bradly0cjw/S4MBF/blob/main/BMR_Calculator.ipynb\" target=\"_parent\"><img src=\"https://colab.research.google.com/assets/colab-badge.svg\" alt=\"Open In Colab\"/></a>"
      ]
    },
    {
      "cell_type": "code",
      "execution_count": 23,
      "metadata": {
        "id": "AqCgNYvnbnPl",
        "colab": {
          "base_uri": "https://localhost:8080/"
        },
        "outputId": "f81da6d3-db5c-4ffe-a4df-84b22bedb178"
      },
      "outputs": [
        {
          "output_type": "stream",
          "name": "stdout",
          "text": [
            "基礎代謝率為: 11689.00 Kcal\n"
          ]
        }
      ],
      "source": [
        "#@title String fields\n",
        "性別 = '\\u5973' #@param [\"男\", \"女\"]\n",
        "體重 = 70 #@param {type:\"integer\"}\n",
        "身高 = 1800 #@param {type:\"integer\"}\n",
        "年齡 = 20 #@param {type:\"integer\"}\n",
        "#@markdown 輸入完成後，請按下左上角Play圖示，或鍵盤上Ctrl+Enter組合鍵，進行計算。\n",
        "\n",
        "def calculation(gender,weight,height,age):\n",
        "  BMR=(10*weight)+(6.25*height)-(5*age)\n",
        "  if gender==1:\n",
        "    BMR=BMR+5\n",
        "  else:\n",
        "    BMR=BMR-161\n",
        "  print(\"基礎代謝率為: %.2f Kcal\"%BMR)\n",
        "def datachecker(gender,weight,height,age):\n",
        "  vaild=True\n",
        "  if gender==\"男\":\n",
        "    gender=1\n",
        "  elif gender ==\"女\":\n",
        "    gender=2\n",
        "  else:\n",
        "    vaild=False\n",
        "  if weight<=0 and weight>200:\n",
        "    vaild=False\n",
        "  if height<=0 and height>250:\n",
        "    vaild=False\n",
        "  if age<0 and age>170:\n",
        "    vaild=False\n",
        "  if vaild:\n",
        "    calculation(int(gender),int(weight),int(height),int(age))\n",
        "  else:\n",
        "    print(\"Invaild Data\")\n",
        "    \n",
        "gender=性別\n",
        "weight=體重\n",
        "height=身高\n",
        "age=年齡\n",
        "BMR=0 #variable initialization\n",
        "\n",
        "datachecker(gender,int(weight),int(height),int(age))\n",
        "\n"
      ]
    }
  ]
}