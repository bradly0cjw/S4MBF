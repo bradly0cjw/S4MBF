{
  "nbformat": 4,
  "nbformat_minor": 0,
  "metadata": {
    "colab": {
      "provenance": [],
      "authorship_tag": "ABX9TyNFOH8mtJ1Ps8Wx6YEO+WEV",
      "include_colab_link": true
    },
    "kernelspec": {
      "name": "python3",
      "display_name": "Python 3"
    },
    "language_info": {
      "name": "python"
    }
  },
  "cells": [
    {
      "cell_type": "markdown",
      "metadata": {
        "id": "view-in-github",
        "colab_type": "text"
      },
      "source": [
        "<a href=\"https://colab.research.google.com/github/bradly0cjw/S4MBF/blob/main/BMR_Calculator.ipynb\" target=\"_parent\"><img src=\"https://colab.research.google.com/assets/colab-badge.svg\" alt=\"Open In Colab\"/></a>"
      ]
    },
    {
      "cell_type": "code",
      "execution_count": null,
      "metadata": {
        "id": "AqCgNYvnbnPl"
      },
      "outputs": [],
      "source": [
        "def calculation(gender,weight,height,age):\n",
        "    BMR=(10*weight)+(6.25*height)-(5*age)\n",
        "    if gender==1:\n",
        "        BMR=BMR+5\n",
        "    elif gender==2:\n",
        "        BMR=BMR-161\n",
        "    else :\n",
        "        print(\"invalid data\")\n",
        "        return\n",
        "    print(\"基礎代謝率為: %.2f Kcal\"%BMR)\n",
        "    \n",
        "# gender=int(input(\"請輸入性別\"))\n",
        "# weight=int(input(\"請輸入體重\"))\n",
        "# height=int(input(\"請輸入身高\"))\n",
        "# age=int(input(\"請輸入年齡\"))\n",
        "gender=\"男\"\n",
        "weight=70\n",
        "height=180\n",
        "age=20\n",
        "BMR=0\n",
        "if gender==\"男\":\n",
        "    gender=1\n",
        "elif gender ==\"女\":\n",
        "    gender=2\n",
        "else:\n",
        "    gender=0\n",
        "calculation(int(gender),int(weight),int(height),int(age))\n",
        "\n"
      ]
    }
  ]
}